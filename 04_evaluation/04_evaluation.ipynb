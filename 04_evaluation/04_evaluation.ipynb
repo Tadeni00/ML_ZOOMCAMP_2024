{
 "cells": [
  {
   "cell_type": "code",
   "execution_count": 27,
   "metadata": {},
   "outputs": [],
   "source": [
    "# Import libraries\n",
    "import pandas as pd\n",
    "import numpy as np\n",
    "import matplotlib.pyplot as plt\n",
    "import seaborn as sns\n",
    "from sklearn.preprocessing import LabelEncoder\n",
    "from sklearn.model_selection import train_test_split\n",
    "from sklearn.feature_extraction import DictVectorizer\n",
    "from sklearn.linear_model import LogisticRegression\n",
    "from sklearn.metrics import accuracy_score\n",
    "import warnings\n",
    "\n",
    "\n",
    "# Ignore warnings\n",
    "warnings.filterwarnings('ignore')"
   ]
  },
  {
   "cell_type": "markdown",
   "metadata": {},
   "source": [
    "## Data Preparation"
   ]
  },
  {
   "cell_type": "code",
   "execution_count": 32,
   "metadata": {},
   "outputs": [
    {
     "data": {
      "text/html": [
       "<div>\n",
       "<style scoped>\n",
       "    .dataframe tbody tr th:only-of-type {\n",
       "        vertical-align: middle;\n",
       "    }\n",
       "\n",
       "    .dataframe tbody tr th {\n",
       "        vertical-align: top;\n",
       "    }\n",
       "\n",
       "    .dataframe thead th {\n",
       "        text-align: right;\n",
       "    }\n",
       "</style>\n",
       "<table border=\"1\" class=\"dataframe\">\n",
       "  <thead>\n",
       "    <tr style=\"text-align: right;\">\n",
       "      <th></th>\n",
       "      <th>age</th>\n",
       "      <th>job</th>\n",
       "      <th>marital</th>\n",
       "      <th>education</th>\n",
       "      <th>default</th>\n",
       "      <th>balance</th>\n",
       "      <th>housing</th>\n",
       "      <th>loan</th>\n",
       "      <th>contact</th>\n",
       "      <th>day</th>\n",
       "      <th>month</th>\n",
       "      <th>duration</th>\n",
       "      <th>campaign</th>\n",
       "      <th>pdays</th>\n",
       "      <th>previous</th>\n",
       "      <th>poutcome</th>\n",
       "      <th>y</th>\n",
       "    </tr>\n",
       "  </thead>\n",
       "  <tbody>\n",
       "    <tr>\n",
       "      <th>0</th>\n",
       "      <td>58</td>\n",
       "      <td>management</td>\n",
       "      <td>married</td>\n",
       "      <td>tertiary</td>\n",
       "      <td>no</td>\n",
       "      <td>2143</td>\n",
       "      <td>yes</td>\n",
       "      <td>no</td>\n",
       "      <td>unknown</td>\n",
       "      <td>5</td>\n",
       "      <td>may</td>\n",
       "      <td>261</td>\n",
       "      <td>1</td>\n",
       "      <td>-1</td>\n",
       "      <td>0</td>\n",
       "      <td>unknown</td>\n",
       "      <td>no</td>\n",
       "    </tr>\n",
       "    <tr>\n",
       "      <th>1</th>\n",
       "      <td>44</td>\n",
       "      <td>technician</td>\n",
       "      <td>single</td>\n",
       "      <td>secondary</td>\n",
       "      <td>no</td>\n",
       "      <td>29</td>\n",
       "      <td>yes</td>\n",
       "      <td>no</td>\n",
       "      <td>unknown</td>\n",
       "      <td>5</td>\n",
       "      <td>may</td>\n",
       "      <td>151</td>\n",
       "      <td>1</td>\n",
       "      <td>-1</td>\n",
       "      <td>0</td>\n",
       "      <td>unknown</td>\n",
       "      <td>no</td>\n",
       "    </tr>\n",
       "    <tr>\n",
       "      <th>2</th>\n",
       "      <td>33</td>\n",
       "      <td>entrepreneur</td>\n",
       "      <td>married</td>\n",
       "      <td>secondary</td>\n",
       "      <td>no</td>\n",
       "      <td>2</td>\n",
       "      <td>yes</td>\n",
       "      <td>yes</td>\n",
       "      <td>unknown</td>\n",
       "      <td>5</td>\n",
       "      <td>may</td>\n",
       "      <td>76</td>\n",
       "      <td>1</td>\n",
       "      <td>-1</td>\n",
       "      <td>0</td>\n",
       "      <td>unknown</td>\n",
       "      <td>no</td>\n",
       "    </tr>\n",
       "    <tr>\n",
       "      <th>3</th>\n",
       "      <td>47</td>\n",
       "      <td>blue-collar</td>\n",
       "      <td>married</td>\n",
       "      <td>unknown</td>\n",
       "      <td>no</td>\n",
       "      <td>1506</td>\n",
       "      <td>yes</td>\n",
       "      <td>no</td>\n",
       "      <td>unknown</td>\n",
       "      <td>5</td>\n",
       "      <td>may</td>\n",
       "      <td>92</td>\n",
       "      <td>1</td>\n",
       "      <td>-1</td>\n",
       "      <td>0</td>\n",
       "      <td>unknown</td>\n",
       "      <td>no</td>\n",
       "    </tr>\n",
       "    <tr>\n",
       "      <th>4</th>\n",
       "      <td>33</td>\n",
       "      <td>unknown</td>\n",
       "      <td>single</td>\n",
       "      <td>unknown</td>\n",
       "      <td>no</td>\n",
       "      <td>1</td>\n",
       "      <td>no</td>\n",
       "      <td>no</td>\n",
       "      <td>unknown</td>\n",
       "      <td>5</td>\n",
       "      <td>may</td>\n",
       "      <td>198</td>\n",
       "      <td>1</td>\n",
       "      <td>-1</td>\n",
       "      <td>0</td>\n",
       "      <td>unknown</td>\n",
       "      <td>no</td>\n",
       "    </tr>\n",
       "  </tbody>\n",
       "</table>\n",
       "</div>"
      ],
      "text/plain": [
       "   age           job  marital  education default  balance housing loan  \\\n",
       "0   58    management  married   tertiary      no     2143     yes   no   \n",
       "1   44    technician   single  secondary      no       29     yes   no   \n",
       "2   33  entrepreneur  married  secondary      no        2     yes  yes   \n",
       "3   47   blue-collar  married    unknown      no     1506     yes   no   \n",
       "4   33       unknown   single    unknown      no        1      no   no   \n",
       "\n",
       "   contact  day month  duration  campaign  pdays  previous poutcome   y  \n",
       "0  unknown    5   may       261         1     -1         0  unknown  no  \n",
       "1  unknown    5   may       151         1     -1         0  unknown  no  \n",
       "2  unknown    5   may        76         1     -1         0  unknown  no  \n",
       "3  unknown    5   may        92         1     -1         0  unknown  no  \n",
       "4  unknown    5   may       198         1     -1         0  unknown  no  "
      ]
     },
     "execution_count": 32,
     "metadata": {},
     "output_type": "execute_result"
    }
   ],
   "source": [
    "file_path = '/workspaces/ML_ZOOMCAMP_2024/bank-full.csv'\n",
    "df = pd.read_csv(file_path, sep=';')\n",
    "\n",
    "df.head()"
   ]
  },
  {
   "cell_type": "code",
   "execution_count": 33,
   "metadata": {},
   "outputs": [
    {
     "data": {
      "text/plain": [
       "age          0\n",
       "job          0\n",
       "marital      0\n",
       "education    0\n",
       "balance      0\n",
       "housing      0\n",
       "contact      0\n",
       "day          0\n",
       "month        0\n",
       "duration     0\n",
       "campaign     0\n",
       "pdays        0\n",
       "previous     0\n",
       "poutcome     0\n",
       "y            0\n",
       "dtype: int64"
      ]
     },
     "execution_count": 33,
     "metadata": {},
     "output_type": "execute_result"
    }
   ],
   "source": [
    "df = df[[\"age\",\"job\", \"marital\", \"education\", \"balance\",\n",
    "         \"housing\", \"contact\", \"day\", \"month\", \"duration\",\n",
    "         \"campaign\", \"pdays\", \"previous\", \"poutcome\", \"y\"]]\n",
    "\n",
    "# Missing values\n",
    "df.isnull().sum()"
   ]
  },
  {
   "cell_type": "code",
   "execution_count": 34,
   "metadata": {},
   "outputs": [],
   "source": [
    "# Target variable\n",
    "y = df['y']\n",
    "\n",
    "# Feature variables\n",
    "X = df.drop('y', axis=1)\n",
    "\n",
    "# numerical columns\n",
    "numerical_columns = ['age', 'balance', 'day', 'duration',\n",
    "                     'campaign', 'pdays', 'previous']\n",
    "\n",
    "# categorical columns\n",
    "categorical_columns = ['job', 'marital', 'education', 'housing',\n",
    "                       'contact', 'month', 'poutcome']"
   ]
  },
  {
   "cell_type": "code",
   "execution_count": 35,
   "metadata": {},
   "outputs": [],
   "source": [
    "# Encode the target variable\n",
    "le = LabelEncoder()\n",
    "y = le.fit_transform(df['y'])\n"
   ]
  },
  {
   "cell_type": "code",
   "execution_count": 36,
   "metadata": {},
   "outputs": [],
   "source": [
    "# Split the data into training (80%) and testing (20%) sets\n",
    "X_full_train, X_test, y_full_train, y_test = train_test_split(X, y, test_size=0.2, random_state=1)"
   ]
  },
  {
   "cell_type": "code",
   "execution_count": 37,
   "metadata": {},
   "outputs": [],
   "source": [
    "# Split the data into training (60%)) and testing (20%) sets\n",
    "X_train, X_val, y_train, y_val = train_test_split(X_full_train, y_full_train, test_size=0.25, random_state=42)\n"
   ]
  },
  {
   "cell_type": "code",
   "execution_count": 38,
   "metadata": {},
   "outputs": [
    {
     "name": "stdout",
     "output_type": "stream",
     "text": [
      "(27126, 14) (9043, 14) (9042, 14)\n",
      "(27126,) (9043,) (9042,)\n"
     ]
    }
   ],
   "source": [
    "# Feature variables shape\n",
    "print(X_train.shape, X_test.shape, X_val.shape)\n",
    "\n",
    "# Target variable shape\n",
    "print(y_train.shape, y_test.shape, y_val.shape)"
   ]
  },
  {
   "cell_type": "markdown",
   "metadata": {},
   "source": [
    "\n",
    "## Question 1: ROC AUC feature importance"
   ]
  },
  {
   "cell_type": "code",
   "execution_count": 39,
   "metadata": {},
   "outputs": [
    {
     "name": "stdout",
     "output_type": "stream",
     "text": [
      "The feature with the highest AUC is duration with an AUC of 0.8087539479327678.\n"
     ]
    }
   ],
   "source": [
    "from sklearn.metrics import roc_auc_score\n",
    "\n",
    "auc_scores = {}\n",
    "\n",
    "for feature in numerical_columns:\n",
    "    auc = roc_auc_score(y_train, X_train[feature])\n",
    "    # If AUC is less than 0.5, invert the feature\n",
    "    if auc < 0.5:\n",
    "        auc = roc_auc_score(y_train, -X_train[feature])\n",
    "    auc_scores[feature] = auc\n",
    "\n",
    "# Find the feature with the highest AUC\n",
    "best_feature = max(auc_scores, key=auc_scores.get)\n",
    "best_auc = auc_scores[best_feature]\n",
    "\n",
    "print(f\"The feature with the highest AUC is {best_feature} with an AUC of {best_auc}.\")\n"
   ]
  },
  {
   "cell_type": "markdown",
   "metadata": {},
   "source": [
    "## Question 2: Training the model\n",
    "Apply one-hot-encoding using DictVectorizer and train the logistic regression with these parameters:\n",
    "\n",
    "*LogisticRegression(solver='liblinear', C=1.0, max_iter=1000)*\n",
    "- > What's the AUC of this model on the validation dataset? (round to 3 digits)"
   ]
  },
  {
   "cell_type": "code",
   "execution_count": 40,
   "metadata": {},
   "outputs": [],
   "source": [
    "from sklearn.feature_extraction import DictVectorizer\n",
    "\n",
    "# One-hot encoding for categorical columns\n",
    "dv = DictVectorizer(sparse=False)\n",
    "\n",
    "train_dict = X_train[categorical_columns + numerical_columns].to_dict(orient='records')\n",
    "X_train = dv.fit_transform(train_dict)\n",
    "\n",
    "val_dict = X_val[categorical_columns + numerical_columns].to_dict(orient='records')\n",
    "X_val = dv.transform(val_dict)\n",
    "\n",
    "test_dict = X_test[categorical_columns + numerical_columns].to_dict(orient='records')\n",
    "X_test = dv.transform(test_dict)"
   ]
  },
  {
   "cell_type": "code",
   "execution_count": 41,
   "metadata": {},
   "outputs": [
    {
     "name": "stdout",
     "output_type": "stream",
     "text": [
      "The AUC of the model on the validation dataset is 0.910.\n"
     ]
    }
   ],
   "source": [
    "from sklearn.linear_model import LogisticRegression\n",
    "\n",
    "\n",
    "# Train the logistic regression model\n",
    "model = LogisticRegression(solver='liblinear', C=1.0, max_iter=1000)\n",
    "model.fit(X_train, y_train)\n",
    "\n",
    "# Make predictions on the validation set\n",
    "y_val_pred_proba = model.predict_proba(X_val)[:, 1]  # Get probability for the positive class\n",
    "\n",
    "# Compute AUC on the validation set\n",
    "auc = roc_auc_score(y_val, y_val_pred_proba)\n",
    "\n",
    "# Print the AUC rounded to 3 digits\n",
    "print(f\"The AUC of the model on the validation dataset is {auc:.3f}.\")\n"
   ]
  },
  {
   "cell_type": "markdown",
   "metadata": {},
   "source": [
    "## Question 3: Precision and Recall\n",
    "- > At which threshold precision and recall curves intersect?\n",
    "\n",
    "* 0.265\n",
    "* 0.465\n",
    "* 0.665\n",
    "* 0.865"
   ]
  },
  {
   "cell_type": "code",
   "execution_count": 42,
   "metadata": {},
   "outputs": [
    {
     "data": {
      "image/png": "[encoded data removed]",
      "text/plain": [
       "<Figure size 640x480 with 1 Axes>"
      ]
     },
     "metadata": {},
     "output_type": "display_data"
    },
    {
     "name": "stdout",
     "output_type": "stream",
     "text": [
      "Precision and recall curves intersect at threshold: 0.28\n"
     ]
    }
   ],
   "source": [
    "import matplotlib.pyplot as plt\n",
    "from sklearn.metrics import precision_score, recall_score\n",
    "\n",
    "thresholds = np.arange(0.0, 1.01, 0.01)  # Thresholds from 0.0 to 1.0 with step 0.01\n",
    "precisions = []\n",
    "recalls = []\n",
    "\n",
    "# Loop over thresholds and compute precision and recall\n",
    "for threshold in thresholds:\n",
    "    # Predict labels based on threshold\n",
    "    y_pred = (y_val_pred_proba >= threshold).astype(int)\n",
    "    \n",
    "    # Compute precision and recall\n",
    "    precision = precision_score(y_val, y_pred)\n",
    "    recall = recall_score(y_val, y_pred)\n",
    "    \n",
    "    precisions.append(precision)\n",
    "    recalls.append(recall)\n",
    "\n",
    "# Plot precision and recall\n",
    "plt.plot(thresholds, precisions, label='Precision', color='blue')\n",
    "plt.plot(thresholds, recalls, label='Recall', color='green')\n",
    "plt.xlabel('Threshold')\n",
    "plt.ylabel('Score')\n",
    "plt.title('Precision and Recall vs Threshold')\n",
    "plt.legend()\n",
    "plt.grid(True)\n",
    "plt.show()\n",
    "\n",
    "# Find the threshold where precision and recall intersect\n",
    "for i in range(len(thresholds)):\n",
    "    if np.isclose(precisions[i], recalls[i], atol=0.01):  # Check if values are close within tolerance\n",
    "        intersection_threshold = thresholds[i]\n",
    "        print(f\"Precision and recall curves intersect at threshold: {intersection_threshold:.2f}\")\n",
    "        break"
   ]
  },
  {
   "cell_type": "markdown",
   "metadata": {},
   "source": [
    "## Question 4: F1 score\n",
    "Precision and recall are conflicting - when one grows, the other goes down. That's why they are often combined into the F1 score - a metrics that takes into account both.\n",
    "\n",
    "Let's compute F1 for all thresholds from 0.0 to 1.0 with increment 0.01\n",
    "\n",
    "- > At which threshold F1 is maximal?\n"
   ]
  },
  {
   "cell_type": "code",
   "execution_count": 43,
   "metadata": {},
   "outputs": [
    {
     "name": "stdout",
     "output_type": "stream",
     "text": [
      "The threshold with the highest F1 score is 0.25 with an F1 score of 0.582.\n"
     ]
    }
   ],
   "source": [
    "thresholds = np.arange(0.0, 1.0, 0.01)  # Thresholds from 0.0 to 1.0 with step 0.01\n",
    "f1_scores = []\n",
    "\n",
    "# Loop over thresholds and compute F1 score\n",
    "for threshold in thresholds:\n",
    "    # Predict labels based on threshold\n",
    "    y_pred = (y_val_pred_proba >= threshold).astype(int)\n",
    "    \n",
    "    # Compute precision and recall\n",
    "    precision = precision_score(y_val, y_pred)\n",
    "    recall = recall_score(y_val, y_pred)\n",
    "    \n",
    "    # Compute F1 score\n",
    "    if precision + recall > 0:  # Avoid division by zero\n",
    "        f1 = 2 * (precision * recall) / (precision + recall)\n",
    "    else:\n",
    "        f1 = 0\n",
    "    f1_scores.append(f1)\n",
    "\n",
    "# Find the threshold where F1 score is maximal\n",
    "max_f1_index = np.argmax(f1_scores)\n",
    "best_threshold = thresholds[max_f1_index]\n",
    "max_f1_score = f1_scores[max_f1_index]\n",
    "\n",
    "print(f\"The threshold with the highest F1 score is {best_threshold:.2f} with an F1 score of {max_f1_score:.3f}.\")\n"
   ]
  },
  {
   "cell_type": "markdown",
   "metadata": {},
   "source": [
    "## Question 5: 5-Fold CV\n",
    "Use the KFold class from Scikit-Learn to evaluate our model on 5 different folds:\n",
    "\n",
    "*KFold(n_splits=5, shuffle=True, random_state=1)*\n",
    "\n",
    "* Iterate over different folds of df_full_train\n",
    "* Split the data into train and validation\n",
    "* Train the model on train with these parameters: LogisticRegression(solver='liblinear', C=1.0, max_iter=1000)\n",
    "* Use AUC to evaluate the model on validation\n",
    "- > How large is standard deviation of the scores across different folds?"
   ]
  },
  {
   "cell_type": "code",
   "execution_count": 44,
   "metadata": {},
   "outputs": [
    {
     "name": "stdout",
     "output_type": "stream",
     "text": [
      "AUC scores for each fold: [np.float64(0.8993556310932126), np.float64(0.8993206548548723), np.float64(0.9112583997605899), np.float64(0.9081048228522398), np.float64(0.9120491718502978)]\n",
      "Standard deviation of AUC scores: 0.006\n"
     ]
    }
   ],
   "source": [
    "from sklearn.model_selection import KFold\n",
    "\n",
    "kf = KFold(n_splits=5, shuffle=True, random_state=1)\n",
    "dv = DictVectorizer(sparse=False)  # To handle categorical variables\n",
    "\n",
    "auc_scores = []\n",
    "\n",
    "# Iterate over the KFold splits\n",
    "for train_idx, val_idx in kf.split(X_full_train):\n",
    "    # Split the data into train and validation sets\n",
    "    X_train, X_val = X_full_train.iloc[train_idx], X_full_train.iloc[val_idx]\n",
    "    y_train, y_val = y_full_train[train_idx], y_full_train[val_idx]  # NumPy indexing\n",
    "    \n",
    "    # Convert training and validation data to dictionary format and apply one-hot encoding\n",
    "    X_train_dict = X_train.to_dict(orient='records')\n",
    "    X_val_dict = X_val.to_dict(orient='records')\n",
    "    \n",
    "    X_train_encoded = dv.fit_transform(X_train_dict)\n",
    "    X_val_encoded = dv.transform(X_val_dict)\n",
    "    \n",
    "    # Train the logistic regression model\n",
    "    model = LogisticRegression(solver='liblinear', C=1.0, max_iter=1000)\n",
    "    model.fit(X_train_encoded, y_train)\n",
    "    \n",
    "    # Predict probabilities for the validation set\n",
    "    y_val_pred_proba = model.predict_proba(X_val_encoded)[:, 1]  # Get probability for the positive class\n",
    "    \n",
    "    # Compute the AUC for the validation fold\n",
    "    auc = roc_auc_score(y_val, y_val_pred_proba)\n",
    "    auc_scores.append(auc)\n",
    "\n",
    "# Calculate the standard deviation of AUC scores across folds\n",
    "auc_std_dev = np.std(auc_scores)\n",
    "\n",
    "print(f\"AUC scores for each fold: {auc_scores}\")\n",
    "print(f\"Standard deviation of AUC scores: {auc_std_dev:.3f}\")\n"
   ]
  },
  {
   "cell_type": "markdown",
   "metadata": {},
   "source": [
    "## Question 6: Hyperparameter Tuning\n",
    "Now let's use 5-Fold cross-validation to find the best parameter C\n",
    "\n",
    "* Iterate over the following C values: *[0.000001, 0.001, 1]*\n",
    "* Initialize KFold with the same parameters as previously\n",
    "* Use these parameters for the model: *LogisticRegression(solver='liblinear', C=C, max_iter=1000)*\n",
    "* Compute the mean score as well as the std (round the mean and std to 3 decimal digits)\n",
    "- > Which C leads to the best mean score?"
   ]
  },
  {
   "cell_type": "code",
   "execution_count": 45,
   "metadata": {},
   "outputs": [
    {
     "name": "stdout",
     "output_type": "stream",
     "text": [
      "C=1, Mean AUC=0.906, Std AUC=0.006\n",
      "C=0.001, Mean AUC=0.861, Std AUC=0.007\n",
      "C=1e-06, Mean AUC=0.701, Std AUC=0.009\n",
      "\n",
      "Best C value is 1 with mean AUC=0.906 and Std AUC=0.006\n"
     ]
    }
   ],
   "source": [
    "# Define the C values to iterate over\n",
    "C_values = [0.000001, 0.001, 1]\n",
    "\n",
    "kf = KFold(n_splits=5, shuffle=True, random_state=1)\n",
    "dv = DictVectorizer(sparse=False)  # One-hot encoding for categorical features\n",
    "\n",
    "# Initialize a dictionary to store the results\n",
    "results = []\n",
    "\n",
    "# Iterate over different C values\n",
    "for C in C_values:\n",
    "    auc_scores = []\n",
    "    \n",
    "    # Perform cross-validation\n",
    "    for train_idx, val_idx in kf.split(X_full_train):\n",
    "        # Split the data into train and validation sets\n",
    "        X_train, X_val = X_full_train.iloc[train_idx], X_full_train.iloc[val_idx]\n",
    "        y_train, y_val = y_full_train[train_idx], y_full_train[val_idx]\n",
    "        \n",
    "        # Convert to dictionary and apply DictVectorizer for encoding\n",
    "        X_train_dict = X_train.to_dict(orient='records')\n",
    "        X_val_dict = X_val.to_dict(orient='records')\n",
    "        \n",
    "        X_train_encoded = dv.fit_transform(X_train_dict)\n",
    "        X_val_encoded = dv.transform(X_val_dict)\n",
    "        \n",
    "        # Train the logistic regression model with the given C\n",
    "        model = LogisticRegression(solver='liblinear', C=C, max_iter=1000)\n",
    "        model.fit(X_train_encoded, y_train)\n",
    "        \n",
    "        # Predict probabilities and calculate AUC\n",
    "        y_val_pred_proba = model.predict_proba(X_val_encoded)[:, 1]\n",
    "        auc = roc_auc_score(y_val, y_val_pred_proba)\n",
    "        auc_scores.append(auc)\n",
    "    \n",
    "    # Calculate the mean and standard deviation of AUC scores\n",
    "    mean_auc = np.mean(auc_scores)\n",
    "    std_auc = np.std(auc_scores)\n",
    "    \n",
    "    # Store the results\n",
    "    results.append({\n",
    "        'C': C,\n",
    "        'mean_auc': round(mean_auc, 3),\n",
    "        'std_auc': round(std_auc, 3)\n",
    "    })\n",
    "\n",
    "# Sort the results to find the best C (prefer lower std and smaller C if tied)\n",
    "results_sorted = sorted(results, key=lambda x: (x['mean_auc'], -x['std_auc'], -x['C']), reverse=True)\n",
    "\n",
    "# Display the results\n",
    "for result in results_sorted:\n",
    "    print(f\"C={result['C']}, Mean AUC={result['mean_auc']}, Std AUC={result['std_auc']}\")\n",
    "\n",
    "# Find the best C value\n",
    "best_result = results_sorted[0]\n",
    "print(f\"\\nBest C value is {best_result['C']} with mean AUC={best_result['mean_auc']} and Std AUC={best_result['std_auc']}\")\n"
   ]
  },
  {
   "cell_type": "code",
   "execution_count": null,
   "metadata": {},
   "outputs": [],
   "source": []
  }
 ],
 "metadata": {
  "kernelspec": {
   "display_name": "Python 3",
   "language": "python",
   "name": "python3"
  },
  "language_info": {
   "codemirror_mode": {
    "name": "ipython",
    "version": 3
   },
   "file_extension": ".py",
   "mimetype": "text/x-python",
   "name": "python",
   "nbconvert_exporter": "python",
   "pygments_lexer": "ipython3",
   "version": "3.12.1"
  }
 },
 "nbformat": 4,
 "nbformat_minor": 2
}
