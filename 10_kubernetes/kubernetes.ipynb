{
  "nbformat": 4,
  "nbformat_minor": 0,
  "metadata": {
    "colab": {
      "provenance": []
    },
    "kernelspec": {
      "name": "python3",
      "display_name": "Python 3"
    },
    "language_info": {
      "name": "python"
    }
  },
  "cells": [
    {
      "cell_type": "code",
      "execution_count": null,
      "metadata": {
        "id": "nrNiGhiX8R4I"
      },
      "outputs": [],
      "source": []
    },
    {
      "cell_type": "markdown",
      "source": [
        "## Homework\n",
        "In this homework, we'll deploy the Bank Marketing model from the homework 5. We already have a docker image for this model - we'll use it for deploying the model to Kubernetes.\n",
        "\n",
        "## Building the image\n",
        "Clone the course repo if you haven't:\n",
        "\n",
        "`git clone https://github.com/DataTalksClub/machine-learning-zoomcamp.git`\n",
        "\n",
        "Go to the `course-zoomcamp/cohorts/2024/05-deployment/homework` folder and execute the following:\n",
        "\n",
        "`docker build -t zoomcamp-model:3.11.5-hw10 .`\n",
        "\n",
        "> Note: If you have troubles building the image, you can use the image we built and published to docker hub: docker pull svizor/zoomcamp-model:3.11.5-hw10"
      ],
      "metadata": {
        "id": "YUKHBfPFBJr2"
      }
    },
    {
      "cell_type": "markdown",
      "source": [
        "## Question 1\n",
        "Run it to test that it's working locally:\n",
        "\n",
        "`docker run -it --rm -p 9696:9696 zoomcamp-model:3.11.5-hw10`\n",
        "\n",
        "And in another terminal, execute q6_test.py file:\n",
        "\n",
        "`python q6_test.py`\n",
        "\n",
        "> You should see this:\n",
        "\n",
        "`{'has_subscribed': True, 'has_subscribed_probability': <value>}`\n",
        "\n",
        "Here `<value>` is the probability of getting a subscription. You need to choose the right one.\n",
        "\n",
        "* 0.287\n",
        "* 0.530\n",
        "* 0.757\n",
        "* 0.960\n",
        "\n",
        "\n",
        "> Answer: 0.757\n",
        "\n"
      ],
      "metadata": {
        "id": "83IBDIk5CAQM"
      }
    },
    {
      "cell_type": "markdown",
      "source": [
        "## Installing kubectl and kind\n",
        "You need to install:\n",
        "\n",
        "> kubectl - https://kubernetes.io/docs/tasks/tools/ (you might already have it - check before installing)\n",
        "\n",
        "> Kind - https://kind.sigs.k8s.io/docs/user/quick-start/"
      ],
      "metadata": {
        "id": "JiKOcjKtCznQ"
      }
    },
    {
      "cell_type": "markdown",
      "source": [
        "## Question 2\n",
        "What's the version of kind that you have?\n",
        "\n",
        "Use `kind --version` to find out.\n",
        "\n",
        "Creating a cluster\n",
        "\n",
        "Now let's create a cluster with kind:\n",
        "\n",
        "`kind create cluster`\n",
        "And check with kubectl that it was successfully created:\n",
        "\n",
        "`kubectl cluster-info`\n",
        "\n",
        "> Answer: 0.26.0"
      ],
      "metadata": {
        "id": "L45BC8ciQlU4"
      }
    },
    {
      "cell_type": "markdown",
      "source": [
        "##  Question 3\n",
        "What's the smallest deployable computing unit that we can create and manage in Kubernetes (kind in our case)?\n",
        "\n",
        "* Node\n",
        "* Pod\n",
        "* Deployment\n",
        "* Service\n",
        "\n",
        "> Answer: Pod"
      ],
      "metadata": {
        "id": "wXuDdAsfRP3n"
      }
    },
    {
      "cell_type": "markdown",
      "source": [
        "## Question 4\n",
        "> Now let's test if everything works. Use kubectl to get the list of running services.\n",
        "\n",
        "\n",
        "What's the Type of the service that is already running there?\n",
        "\n",
        "* NodePort\n",
        "* ClusterIP\n",
        "* ExternalName\n",
        "* LoadBalancer\n",
        "\n",
        "> Answer: ClusterIP"
      ],
      "metadata": {
        "id": "J1IW2GVhQ3m7"
      }
    },
    {
      "cell_type": "markdown",
      "source": [
        "## Question 5\n",
        "> To be able to use the docker image we previously created (zoomcamp-model:3.11.5-hw10), we need to register it with kind.\n",
        "\n",
        "What's the command we need to run for that?\n",
        "\n",
        "* kind create cluster\n",
        "* kind build node-image\n",
        "* kind load docker-image\n",
        "* kubectl apply\n",
        "\n",
        "> Answer: `kind load docker-image`"
      ],
      "metadata": {
        "id": "UGUNJ8z0RfEq"
      }
    },
    {
      "cell_type": "markdown",
      "source": [
        "## Question 6\n",
        "Now let's create a deployment config (e.g. deployment.yaml):\n",
        "\n",
        "```\n",
        "apiVersion: apps/v1\n",
        "kind: Deployment\n",
        "metadata:\n",
        "  name: subscription\n",
        "spec:\n",
        "  selector:\n",
        "    matchLabels:\n",
        "      app: subscription\n",
        "  replicas: 1\n",
        "  template:\n",
        "    metadata:\n",
        "      labels:\n",
        "        app: subscription\n",
        "    spec:\n",
        "      containers:\n",
        "      - name: subscription\n",
        "        image: <Image>\n",
        "        resources:\n",
        "          requests:\n",
        "            memory: \"64Mi\"\n",
        "            cpu: \"100m\"            \n",
        "          limits:\n",
        "            memory: <Memory>\n",
        "            cpu: <CPU>\n",
        "        ports:\n",
        "        - containerPort: <Port>\n",
        "```\n",
        "\n",
        "\n",
        "\n",
        "> Replace \\<Image>, \\<Memory>, \\<CPU>, \\<Port> with the correct values.\n",
        "\n",
        "What is the value for \\<Port>?\n",
        "\n",
        "> Answer: 9696\n",
        "\n",
        "> Apply this deployment using the appropriate command and get a list of running Pods. You can see one running Pod."
      ],
      "metadata": {
        "id": "WL5GJiSwUmh0"
      }
    },
    {
      "cell_type": "markdown",
      "source": [
        "## Question 7\n",
        "Let's create a service for this deployment (service.yaml):\n",
        "\n",
        "```\n",
        "apiVersion: v1\n",
        "kind: Service\n",
        "metadata:\n",
        "  name: <Service name>\n",
        "spec:\n",
        "  type: LoadBalancer\n",
        "  selector:\n",
        "    app: <???>\n",
        "  ports:\n",
        "  - port: 80\n",
        "    targetPort: <PORT>\n",
        "```\n",
        "Fill it in. What do we need to write instead of \\<???>?\n",
        "\n",
        "> Answer: subcription\n",
        "\n",
        "> Apply this config file."
      ],
      "metadata": {
        "id": "SB9S8T9sVhBC"
      }
    },
    {
      "cell_type": "code",
      "source": [],
      "metadata": {
        "id": "p8_HbmHQBwR6"
      },
      "execution_count": null,
      "outputs": []
    }
  ]
}